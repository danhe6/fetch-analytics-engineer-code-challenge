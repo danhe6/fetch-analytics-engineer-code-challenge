{
 "cells": [
  {
   "cell_type": "markdown",
   "metadata": {},
   "source": [
    "### Communication Email"
   ]
  },
  {
   "cell_type": "markdown",
   "metadata": {},
   "source": [
    "**Subject**: Clarifications Needed for Relational Data Model Project\n",
    "\n",
    "Hi *[Recipient's Name]*,\n",
    "\n",
    "I hope this email finds you well. I am currently working on a project to develop a structured relational data model based on our receipts, brands, and user information. The primary objective of this initiative is to organize our data in a more consistent, efficient, and scalable manner, which will significantly enhance our ability to perform in-depth analysis and support future data growth.\n",
    "\n",
    "During my review of the datasets, I identified a few data quality issues that require clarification before finalizing the model. I would appreciate your insights on the following questions:\n",
    "\n",
    "- **Receipts-related questions**\n",
    "    - 1): I noticed that some receipts are missing item information, particularly those with a status of \"submitted.\" Could you confirm if the presence of item information is tied to the receipt status? If so, could you provide details on the sequence of status changes and at which stage we should expect to see the item list populated?\n",
    "    - 2): How does the system handle items that are not found in our records or cases where a brand mismatch occurs? Understanding this workflow will help me design a structured model that can properly account for these scenarios.\n",
    "- **Brands-related questions**\n",
    "    - 1): I am using the \"Brand Code\" field to link items to their respective brands, but I’ve found that many brand codes are missing. I understand that a partner production file may store this information—could you guide me on where to find these documents?\n",
    "- **Users-related questions**\n",
    "    - 1): It appears that not all users from the receipts table are captured in our existing user table. Are these users part of our customer base? If so, where can I find relevant user information?\n",
    "    \n",
    "Your input on these matters will be invaluable in ensuring the accuracy and completeness of the data model. Please let me know if you need any additional context or if there’s a convenient time for us to discuss this further.\n",
    "\n",
    "Thank you for your time and support. I look forward to your feedback.\n",
    "\n",
    "Best regards,\n",
    "\n",
    "Dan He"
   ]
  }
 ],
 "metadata": {
  "kernelspec": {
   "display_name": "Python 3",
   "language": "python",
   "name": "python3"
  },
  "language_info": {
   "codemirror_mode": {
    "name": "ipython",
    "version": 3
   },
   "file_extension": ".py",
   "mimetype": "text/x-python",
   "name": "python",
   "nbconvert_exporter": "python",
   "pygments_lexer": "ipython3",
   "version": "3.8.5"
  }
 },
 "nbformat": 4,
 "nbformat_minor": 4
}

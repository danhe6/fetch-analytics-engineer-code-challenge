{
 "cells": [
  {
   "cell_type": "code",
   "execution_count": 86,
   "metadata": {},
   "outputs": [],
   "source": [
    "import csv\n",
    "import pandas as pd\n",
    "import re\n",
    "import sqlite3\n",
    "from sqlite3 import Error\n",
    "import ast \n",
    "import math\n",
    "import os\n",
    "import numpy as np"
   ]
  },
  {
   "cell_type": "code",
   "execution_count": 87,
   "metadata": {},
   "outputs": [],
   "source": [
    "conn = sqlite3.connect(\"receipts.db\")\n",
    "cursor = conn.cursor()"
   ]
  },
  {
   "cell_type": "markdown",
   "metadata": {},
   "source": [
    "## SQL Questions Answer:"
   ]
  },
  {
   "cell_type": "markdown",
   "metadata": {},
   "source": [
    "### 1): What are the top 5 brands by receipts scanned for most recent month?"
   ]
  },
  {
   "cell_type": "markdown",
   "metadata": {},
   "source": [
    "Filtered brand code is none value, current output is null because data is not in most recent year/month"
   ]
  },
  {
   "cell_type": "code",
   "execution_count": 88,
   "metadata": {},
   "outputs": [
    {
     "data": {
      "text/plain": [
       "[]"
      ]
     },
     "execution_count": 88,
     "metadata": {},
     "output_type": "execute_result"
    }
   ],
   "source": [
    "cursor.execute(\"\"\"\n",
    "select i.brand_code as brand_code, count(r.receipt_id) as receipt_counts\n",
    "from (\n",
    "select *\n",
    "from receipt\n",
    "where strftime('%Y-%m', scanned_date) = (strftime('%Y-%m', date('now'))) ) r \n",
    "left join receipt_item ri\n",
    "on r.receipt_id = ri.receipt_id\n",
    "left join item i\n",
    "on ri.barcode = i.barcode\n",
    "where i.brand_code != 'None'\n",
    "group by i.brand_code\n",
    "order by count(r.receipt_id) desc\n",
    "limit 5\n",
    "\"\"\")\n",
    "answer = cursor.fetchall()\n",
    "answer"
   ]
  },
  {
   "cell_type": "markdown",
   "metadata": {},
   "source": [
    "### 2): How does the ranking of the top 5 brands by receipts scanned for the recent month compare to the ranking for the previous month?"
   ]
  },
  {
   "cell_type": "code",
   "execution_count": 89,
   "metadata": {},
   "outputs": [
    {
     "data": {
      "text/plain": [
       "[]"
      ]
     },
     "execution_count": 89,
     "metadata": {},
     "output_type": "execute_result"
    }
   ],
   "source": [
    "cursor.execute(\"\"\"\n",
    "select brand_code, dense_rank() over (order by receipt_counts desc) as rank_num\n",
    "from\n",
    "\n",
    "(select i.brand_code as brand_code, count(r.receipt_id) as receipt_counts\n",
    "from (\n",
    "select *\n",
    "from receipt\n",
    "where strftime('%Y-%m', scanned_date) = (strftime('%Y-%m',  date('now', 'start of month', '-1 month'))) ) r \n",
    "left join receipt_item ri\n",
    "on r.receipt_id = ri.receipt_id\n",
    "left join item i\n",
    "on ri.barcode = i.barcode\n",
    "where i.brand_code != 'None'\n",
    "group by i.brand_code\n",
    ") \n",
    "\n",
    "where brand_code in \n",
    "\n",
    "(select i.brand_code as brand_code\n",
    "from (\n",
    "select *\n",
    "from receipt\n",
    "where strftime('%Y-%m', scanned_date) = (strftime('%Y-%m', date('now'))) ) r \n",
    "left join receipt_item ri\n",
    "on r.receipt_id = ri.receipt_id\n",
    "left join item i\n",
    "on ri.barcode = i.barcode\n",
    "where i.brand_code != 'None'\n",
    "group by i.brand_code\n",
    "order by count(r.receipt_id) desc\n",
    "limit 5)\n",
    "\"\"\")\n",
    "answer = cursor.fetchall()\n",
    "answer"
   ]
  },
  {
   "cell_type": "markdown",
   "metadata": {},
   "source": [
    "### 3): When considering average spend from receipts with 'rewardsReceiptStatus’ of ‘Accepted’ or ‘Rejected’, which is greater?"
   ]
  },
  {
   "cell_type": "markdown",
   "metadata": {},
   "source": [
    "current data only show rejected because no \"accepted\" string in 'rewardsreceiptstatus'"
   ]
  },
  {
   "cell_type": "code",
   "execution_count": 90,
   "metadata": {},
   "outputs": [
    {
     "data": {
      "text/plain": [
       "[('REJECTED', 23.326056338028184)]"
      ]
     },
     "execution_count": 90,
     "metadata": {},
     "output_type": "execute_result"
    }
   ],
   "source": [
    "cursor.execute(\"\"\"\n",
    "select rs.receipt_status_name as status, avg(total_spent) as average_spend\n",
    "from receipt r\n",
    "left join receipt_status rs\n",
    "on r.receipt_status_id = rs.receipt_status_id\n",
    "where rs.receipt_status_name in ('ACCEPTED','REJECTED')\n",
    "group by rs.receipt_status_name\n",
    "\"\"\")\n",
    "answer = cursor.fetchall()\n",
    "answer"
   ]
  },
  {
   "cell_type": "markdown",
   "metadata": {},
   "source": [
    "### 5): Which brand has the most spend among users who were created within the past 6 months?"
   ]
  },
  {
   "cell_type": "markdown",
   "metadata": {},
   "source": [
    "Filtered brand code is none value, current output is null because data range is old"
   ]
  },
  {
   "cell_type": "code",
   "execution_count": 96,
   "metadata": {},
   "outputs": [
    {
     "data": {
      "text/plain": [
       "[]"
      ]
     },
     "execution_count": 96,
     "metadata": {},
     "output_type": "execute_result"
    }
   ],
   "source": [
    "cursor.execute(\"\"\"\n",
    "select i.brand_code, sum(i.final_price)\n",
    "from receipt r\n",
    "left join user u\n",
    "on r.user_id = u.user_id\n",
    "left join receipt_item ri\n",
    "on r.receipt_id = ri.receipt_id\n",
    "left join item i\n",
    "on ri.barcode = i.barcode\n",
    "where i.brand_code != 'None'\n",
    "and strftime('%Y-%m', u.created_date) >= (strftime('%Y-%m',  date('now', 'start of month', '-6 month')))\n",
    "group by i.brand_code\n",
    "order by sum(i.final_price) desc\n",
    "limit 1\n",
    "\"\"\")\n",
    "answer = cursor.fetchall()\n",
    "answer"
   ]
  },
  {
   "cell_type": "code",
   "execution_count": null,
   "metadata": {},
   "outputs": [],
   "source": []
  }
 ],
 "metadata": {
  "kernelspec": {
   "display_name": "Python 3",
   "language": "python",
   "name": "python3"
  },
  "language_info": {
   "codemirror_mode": {
    "name": "ipython",
    "version": 3
   },
   "file_extension": ".py",
   "mimetype": "text/x-python",
   "name": "python",
   "nbconvert_exporter": "python",
   "pygments_lexer": "ipython3",
   "version": "3.8.5"
  }
 },
 "nbformat": 4,
 "nbformat_minor": 4
}
